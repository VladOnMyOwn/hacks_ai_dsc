{
 "cells": [
  {
   "cell_type": "code",
   "execution_count": 32,
   "metadata": {},
   "outputs": [],
   "source": [
    "import numpy as np              # Одномерные и многомерные массивы (array)\n",
    "import pandas as pd             # Таблицы и временные ряды (dataframe, series)\n",
    "import matplotlib.pyplot as plt # Научная графика\n",
    "import seaborn as sns           # Еще больше красивой графики для визуализации данных\n",
    "import sklearn                  # Алгоритмы машинного обучения\n",
    "import keras                    # Нейронные сети\n",
    "#import LightFM                  #рекомендации + фичи"
   ]
  },
  {
   "cell_type": "code",
   "execution_count": 33,
   "metadata": {},
   "outputs": [],
   "source": [
    "# функция загрузки и вывода основной информации о данных\n",
    "def data_load(path_serv):\n",
    "    df = pd.read_csv(path_serv,  sep='\\t')\n",
    "    display(df.head())\n",
    "    display(df.info())\n",
    "    display(df.describe(include='all'))\n",
    "    display(df.nunique())\n",
    "    display(df.isna().sum())\n",
    "    print(f'Количество дубликатов: {df.duplicated().sum()}')\n",
    "    return df"
   ]
  },
  {
   "cell_type": "code",
   "execution_count": 34,
   "metadata": {},
   "outputs": [
    {
     "data": {
      "text/html": [
       "<div>\n",
       "<style scoped>\n",
       "    .dataframe tbody tr th:only-of-type {\n",
       "        vertical-align: middle;\n",
       "    }\n",
       "\n",
       "    .dataframe tbody tr th {\n",
       "        vertical-align: top;\n",
       "    }\n",
       "\n",
       "    .dataframe thead th {\n",
       "        text-align: right;\n",
       "    }\n",
       "</style>\n",
       "<table border=\"1\" class=\"dataframe\">\n",
       "  <thead>\n",
       "    <tr style=\"text-align: right;\">\n",
       "      <th></th>\n",
       "      <th>device_id</th>\n",
       "      <th>receipt_id</th>\n",
       "      <th>item_id</th>\n",
       "      <th>local_date</th>\n",
       "      <th>name</th>\n",
       "      <th>price</th>\n",
       "      <th>quantity</th>\n",
       "    </tr>\n",
       "  </thead>\n",
       "  <tbody>\n",
       "    <tr>\n",
       "      <th>0</th>\n",
       "      <td>356645110209741</td>\n",
       "      <td>14109912085</td>\n",
       "      <td>200151</td>\n",
       "      <td>2023-02-14 19:29:05</td>\n",
       "      <td>Коробка подарочная A MILLION KISSES</td>\n",
       "      <td>0.0</td>\n",
       "      <td>1</td>\n",
       "    </tr>\n",
       "    <tr>\n",
       "      <th>1</th>\n",
       "      <td>356645110209741</td>\n",
       "      <td>14118224448</td>\n",
       "      <td>200222</td>\n",
       "      <td>2023-02-15 16:55:40</td>\n",
       "      <td>Крем-баттер для тела Франжипани-Монои, 200 мл</td>\n",
       "      <td>1290.0</td>\n",
       "      <td>1</td>\n",
       "    </tr>\n",
       "    <tr>\n",
       "      <th>2</th>\n",
       "      <td>356645110209741</td>\n",
       "      <td>14118224448</td>\n",
       "      <td>200521</td>\n",
       "      <td>2023-02-15 16:55:40</td>\n",
       "      <td>Скраб для тела SAKURA, 250 гр</td>\n",
       "      <td>1390.0</td>\n",
       "      <td>1</td>\n",
       "    </tr>\n",
       "    <tr>\n",
       "      <th>3</th>\n",
       "      <td>356645110209741</td>\n",
       "      <td>14118224448</td>\n",
       "      <td>200282</td>\n",
       "      <td>2023-02-15 16:55:40</td>\n",
       "      <td>Массажное масло от растяжек MIRACLE OIL,150 мл</td>\n",
       "      <td>1290.0</td>\n",
       "      <td>1</td>\n",
       "    </tr>\n",
       "    <tr>\n",
       "      <th>4</th>\n",
       "      <td>356645110209741</td>\n",
       "      <td>14118224448</td>\n",
       "      <td>200136</td>\n",
       "      <td>2023-02-15 16:55:40</td>\n",
       "      <td>Консилер Liquid camouflage, тон light 10мл.</td>\n",
       "      <td>1390.0</td>\n",
       "      <td>1</td>\n",
       "    </tr>\n",
       "  </tbody>\n",
       "</table>\n",
       "</div>"
      ],
      "text/plain": [
       "         device_id   receipt_id  item_id           local_date  \\\n",
       "0  356645110209741  14109912085   200151  2023-02-14 19:29:05   \n",
       "1  356645110209741  14118224448   200222  2023-02-15 16:55:40   \n",
       "2  356645110209741  14118224448   200521  2023-02-15 16:55:40   \n",
       "3  356645110209741  14118224448   200282  2023-02-15 16:55:40   \n",
       "4  356645110209741  14118224448   200136  2023-02-15 16:55:40   \n",
       "\n",
       "                                             name   price  quantity  \n",
       "0             Коробка подарочная A MILLION KISSES     0.0         1  \n",
       "1   Крем-баттер для тела Франжипани-Монои, 200 мл  1290.0         1  \n",
       "2                   Скраб для тела SAKURA, 250 гр  1390.0         1  \n",
       "3  Массажное масло от растяжек MIRACLE OIL,150 мл  1290.0         1  \n",
       "4     Консилер Liquid camouflage, тон light 10мл.  1390.0         1  "
      ]
     },
     "metadata": {},
     "output_type": "display_data"
    },
    {
     "name": "stdout",
     "output_type": "stream",
     "text": [
      "<class 'pandas.core.frame.DataFrame'>\n",
      "RangeIndex: 223908 entries, 0 to 223907\n",
      "Data columns (total 7 columns):\n",
      " #   Column      Non-Null Count   Dtype  \n",
      "---  ------      --------------   -----  \n",
      " 0   device_id   223908 non-null  int64  \n",
      " 1   receipt_id  223908 non-null  int64  \n",
      " 2   item_id     223908 non-null  int64  \n",
      " 3   local_date  223908 non-null  object \n",
      " 4   name        223908 non-null  object \n",
      " 5   price       223908 non-null  float64\n",
      " 6   quantity    223908 non-null  int64  \n",
      "dtypes: float64(1), int64(4), object(2)\n",
      "memory usage: 12.0+ MB\n"
     ]
    },
    {
     "data": {
      "text/plain": [
       "None"
      ]
     },
     "metadata": {},
     "output_type": "display_data"
    },
    {
     "data": {
      "text/html": [
       "<div>\n",
       "<style scoped>\n",
       "    .dataframe tbody tr th:only-of-type {\n",
       "        vertical-align: middle;\n",
       "    }\n",
       "\n",
       "    .dataframe tbody tr th {\n",
       "        vertical-align: top;\n",
       "    }\n",
       "\n",
       "    .dataframe thead th {\n",
       "        text-align: right;\n",
       "    }\n",
       "</style>\n",
       "<table border=\"1\" class=\"dataframe\">\n",
       "  <thead>\n",
       "    <tr style=\"text-align: right;\">\n",
       "      <th></th>\n",
       "      <th>device_id</th>\n",
       "      <th>receipt_id</th>\n",
       "      <th>item_id</th>\n",
       "      <th>local_date</th>\n",
       "      <th>name</th>\n",
       "      <th>price</th>\n",
       "      <th>quantity</th>\n",
       "    </tr>\n",
       "  </thead>\n",
       "  <tbody>\n",
       "    <tr>\n",
       "      <th>count</th>\n",
       "      <td>2.239080e+05</td>\n",
       "      <td>2.239080e+05</td>\n",
       "      <td>223908.000000</td>\n",
       "      <td>223908</td>\n",
       "      <td>223908</td>\n",
       "      <td>223908.000000</td>\n",
       "      <td>223908.000000</td>\n",
       "    </tr>\n",
       "    <tr>\n",
       "      <th>unique</th>\n",
       "      <td>NaN</td>\n",
       "      <td>NaN</td>\n",
       "      <td>NaN</td>\n",
       "      <td>68155</td>\n",
       "      <td>667</td>\n",
       "      <td>NaN</td>\n",
       "      <td>NaN</td>\n",
       "    </tr>\n",
       "    <tr>\n",
       "      <th>top</th>\n",
       "      <td>NaN</td>\n",
       "      <td>NaN</td>\n",
       "      <td>NaN</td>\n",
       "      <td>2022-11-24 15:40:18</td>\n",
       "      <td>Крем-баттер для тела Манго-Маракуйя, 200 мл</td>\n",
       "      <td>NaN</td>\n",
       "      <td>NaN</td>\n",
       "    </tr>\n",
       "    <tr>\n",
       "      <th>freq</th>\n",
       "      <td>NaN</td>\n",
       "      <td>NaN</td>\n",
       "      <td>NaN</td>\n",
       "      <td>49</td>\n",
       "      <td>4249</td>\n",
       "      <td>NaN</td>\n",
       "      <td>NaN</td>\n",
       "    </tr>\n",
       "    <tr>\n",
       "      <th>mean</th>\n",
       "      <td>3.550854e+14</td>\n",
       "      <td>1.262822e+10</td>\n",
       "      <td>200346.067144</td>\n",
       "      <td>NaN</td>\n",
       "      <td>NaN</td>\n",
       "      <td>834.758242</td>\n",
       "      <td>1.085240</td>\n",
       "    </tr>\n",
       "    <tr>\n",
       "      <th>std</th>\n",
       "      <td>2.047298e+12</td>\n",
       "      <td>2.049985e+09</td>\n",
       "      <td>196.111320</td>\n",
       "      <td>NaN</td>\n",
       "      <td>NaN</td>\n",
       "      <td>549.038193</td>\n",
       "      <td>1.159665</td>\n",
       "    </tr>\n",
       "    <tr>\n",
       "      <th>min</th>\n",
       "      <td>3.523981e+14</td>\n",
       "      <td>9.127896e+09</td>\n",
       "      <td>200000.000000</td>\n",
       "      <td>NaN</td>\n",
       "      <td>NaN</td>\n",
       "      <td>0.000000</td>\n",
       "      <td>1.000000</td>\n",
       "    </tr>\n",
       "    <tr>\n",
       "      <th>25%</th>\n",
       "      <td>3.523981e+14</td>\n",
       "      <td>1.077308e+10</td>\n",
       "      <td>200200.000000</td>\n",
       "      <td>NaN</td>\n",
       "      <td>NaN</td>\n",
       "      <td>399.000000</td>\n",
       "      <td>1.000000</td>\n",
       "    </tr>\n",
       "    <tr>\n",
       "      <th>50%</th>\n",
       "      <td>3.566451e+14</td>\n",
       "      <td>1.285266e+10</td>\n",
       "      <td>200332.000000</td>\n",
       "      <td>NaN</td>\n",
       "      <td>NaN</td>\n",
       "      <td>990.000000</td>\n",
       "      <td>1.000000</td>\n",
       "    </tr>\n",
       "    <tr>\n",
       "      <th>75%</th>\n",
       "      <td>3.566451e+14</td>\n",
       "      <td>1.423237e+10</td>\n",
       "      <td>200529.000000</td>\n",
       "      <td>NaN</td>\n",
       "      <td>NaN</td>\n",
       "      <td>1190.000000</td>\n",
       "      <td>1.000000</td>\n",
       "    </tr>\n",
       "    <tr>\n",
       "      <th>max</th>\n",
       "      <td>3.566451e+14</td>\n",
       "      <td>1.621100e+10</td>\n",
       "      <td>200675.000000</td>\n",
       "      <td>NaN</td>\n",
       "      <td>NaN</td>\n",
       "      <td>7023.000000</td>\n",
       "      <td>100.000000</td>\n",
       "    </tr>\n",
       "  </tbody>\n",
       "</table>\n",
       "</div>"
      ],
      "text/plain": [
       "           device_id    receipt_id        item_id           local_date  \\\n",
       "count   2.239080e+05  2.239080e+05  223908.000000               223908   \n",
       "unique           NaN           NaN            NaN                68155   \n",
       "top              NaN           NaN            NaN  2022-11-24 15:40:18   \n",
       "freq             NaN           NaN            NaN                   49   \n",
       "mean    3.550854e+14  1.262822e+10  200346.067144                  NaN   \n",
       "std     2.047298e+12  2.049985e+09     196.111320                  NaN   \n",
       "min     3.523981e+14  9.127896e+09  200000.000000                  NaN   \n",
       "25%     3.523981e+14  1.077308e+10  200200.000000                  NaN   \n",
       "50%     3.566451e+14  1.285266e+10  200332.000000                  NaN   \n",
       "75%     3.566451e+14  1.423237e+10  200529.000000                  NaN   \n",
       "max     3.566451e+14  1.621100e+10  200675.000000                  NaN   \n",
       "\n",
       "                                               name          price  \\\n",
       "count                                        223908  223908.000000   \n",
       "unique                                          667            NaN   \n",
       "top     Крем-баттер для тела Манго-Маракуйя, 200 мл            NaN   \n",
       "freq                                           4249            NaN   \n",
       "mean                                            NaN     834.758242   \n",
       "std                                             NaN     549.038193   \n",
       "min                                             NaN       0.000000   \n",
       "25%                                             NaN     399.000000   \n",
       "50%                                             NaN     990.000000   \n",
       "75%                                             NaN    1190.000000   \n",
       "max                                             NaN    7023.000000   \n",
       "\n",
       "             quantity  \n",
       "count   223908.000000  \n",
       "unique            NaN  \n",
       "top               NaN  \n",
       "freq              NaN  \n",
       "mean         1.085240  \n",
       "std          1.159665  \n",
       "min          1.000000  \n",
       "25%          1.000000  \n",
       "50%          1.000000  \n",
       "75%          1.000000  \n",
       "max        100.000000  "
      ]
     },
     "metadata": {},
     "output_type": "display_data"
    },
    {
     "data": {
      "text/plain": [
       "device_id        30\n",
       "receipt_id    68283\n",
       "item_id         667\n",
       "local_date    68155\n",
       "name            667\n",
       "price          2133\n",
       "quantity         20\n",
       "dtype: int64"
      ]
     },
     "metadata": {},
     "output_type": "display_data"
    },
    {
     "data": {
      "text/plain": [
       "device_id     0\n",
       "receipt_id    0\n",
       "item_id       0\n",
       "local_date    0\n",
       "name          0\n",
       "price         0\n",
       "quantity      0\n",
       "dtype: int64"
      ]
     },
     "metadata": {},
     "output_type": "display_data"
    },
    {
     "name": "stdout",
     "output_type": "stream",
     "text": [
      "Количество дубликатов: 2\n"
     ]
    }
   ],
   "source": [
    "cosmetic_train = data_load(\"C:\\\\Users\\\\trosh\\\\Projects\\\\Python3\\\\vscode\\\\cosmetic_train.tsv\")"
   ]
  },
  {
   "cell_type": "code",
   "execution_count": 35,
   "metadata": {},
   "outputs": [],
   "source": [
    "cosmetic_train = cosmetic_train.drop_duplicates()"
   ]
  },
  {
   "cell_type": "code",
   "execution_count": 36,
   "metadata": {},
   "outputs": [],
   "source": [
    "cosmetic_train['quantity'] = cosmetic_train['quantity'].astype('int8')"
   ]
  },
  {
   "cell_type": "code",
   "execution_count": 37,
   "metadata": {},
   "outputs": [],
   "source": [
    "cosmetic_train['local_date'] = pd.to_datetime(cosmetic_train['local_date'], format='%Y-%m-%d %H:%M:%S')"
   ]
  },
  {
   "cell_type": "code",
   "execution_count": 38,
   "metadata": {},
   "outputs": [
    {
     "name": "stdout",
     "output_type": "stream",
     "text": [
      "<class 'pandas.core.frame.DataFrame'>\n",
      "Int64Index: 223906 entries, 0 to 223907\n",
      "Data columns (total 7 columns):\n",
      " #   Column      Non-Null Count   Dtype         \n",
      "---  ------      --------------   -----         \n",
      " 0   device_id   223906 non-null  int64         \n",
      " 1   receipt_id  223906 non-null  int64         \n",
      " 2   item_id     223906 non-null  int64         \n",
      " 3   local_date  223906 non-null  datetime64[ns]\n",
      " 4   name        223906 non-null  object        \n",
      " 5   price       223906 non-null  float64       \n",
      " 6   quantity    223906 non-null  int8          \n",
      "dtypes: datetime64[ns](1), float64(1), int64(3), int8(1), object(1)\n",
      "memory usage: 12.2+ MB\n"
     ]
    }
   ],
   "source": [
    "cosmetic_train.info()"
   ]
  },
  {
   "cell_type": "code",
   "execution_count": 39,
   "metadata": {},
   "outputs": [
    {
     "data": {
      "text/html": [
       "<div>\n",
       "<style scoped>\n",
       "    .dataframe tbody tr th:only-of-type {\n",
       "        vertical-align: middle;\n",
       "    }\n",
       "\n",
       "    .dataframe tbody tr th {\n",
       "        vertical-align: top;\n",
       "    }\n",
       "\n",
       "    .dataframe thead th {\n",
       "        text-align: right;\n",
       "    }\n",
       "</style>\n",
       "<table border=\"1\" class=\"dataframe\">\n",
       "  <thead>\n",
       "    <tr style=\"text-align: right;\">\n",
       "      <th></th>\n",
       "      <th>device_id</th>\n",
       "      <th>receipt_id</th>\n",
       "      <th>item_id</th>\n",
       "      <th>server_date</th>\n",
       "      <th>local_date</th>\n",
       "      <th>name</th>\n",
       "      <th>price</th>\n",
       "      <th>quantity</th>\n",
       "      <th>my_ckecker</th>\n",
       "    </tr>\n",
       "  </thead>\n",
       "  <tbody>\n",
       "    <tr>\n",
       "      <th>0</th>\n",
       "      <td>352398080550058</td>\n",
       "      <td>13014665572</td>\n",
       "      <td>104821</td>\n",
       "      <td>2022-10-16 14:38:00</td>\n",
       "      <td>2022-10-16 14:38:01</td>\n",
       "      <td>Картофель /новый урожай/Россия/</td>\n",
       "      <td>31.9</td>\n",
       "      <td>28.45</td>\n",
       "      <td>NaN</td>\n",
       "    </tr>\n",
       "    <tr>\n",
       "      <th>1</th>\n",
       "      <td>352398080550058</td>\n",
       "      <td>13014665572</td>\n",
       "      <td>107726</td>\n",
       "      <td>2022-10-16 14:38:00</td>\n",
       "      <td>2022-10-16 14:38:01</td>\n",
       "      <td>Молоко Станичное 3.2% 1.0л ультрапастеризованн...</td>\n",
       "      <td>89.0</td>\n",
       "      <td>1.00</td>\n",
       "      <td>NaN</td>\n",
       "    </tr>\n",
       "    <tr>\n",
       "      <th>2</th>\n",
       "      <td>352398080550058</td>\n",
       "      <td>13014716101</td>\n",
       "      <td>100671</td>\n",
       "      <td>2022-10-16 14:42:06</td>\n",
       "      <td>2022-10-16 14:42:06</td>\n",
       "      <td>Вафли Коламбина /телевизор/Кузнецов/</td>\n",
       "      <td>367.0</td>\n",
       "      <td>2.00</td>\n",
       "      <td>NaN</td>\n",
       "    </tr>\n",
       "    <tr>\n",
       "      <th>3</th>\n",
       "      <td>352398080550058</td>\n",
       "      <td>13014716101</td>\n",
       "      <td>104645</td>\n",
       "      <td>2022-10-16 14:42:06</td>\n",
       "      <td>2022-10-16 14:42:06</td>\n",
       "      <td>К-ты Хо-хо-чу глаз.солен.карамель /Невск.конди...</td>\n",
       "      <td>334.0</td>\n",
       "      <td>1.00</td>\n",
       "      <td>NaN</td>\n",
       "    </tr>\n",
       "    <tr>\n",
       "      <th>4</th>\n",
       "      <td>352398080550058</td>\n",
       "      <td>13015069818</td>\n",
       "      <td>107708</td>\n",
       "      <td>2022-10-16 15:11:39</td>\n",
       "      <td>2022-10-16 15:11:39</td>\n",
       "      <td>Молоко Молочный гостинец 3.2% 930гр ультрапаст...</td>\n",
       "      <td>89.0</td>\n",
       "      <td>1.00</td>\n",
       "      <td>NaN</td>\n",
       "    </tr>\n",
       "  </tbody>\n",
       "</table>\n",
       "</div>"
      ],
      "text/plain": [
       "         device_id   receipt_id  item_id          server_date  \\\n",
       "0  352398080550058  13014665572   104821  2022-10-16 14:38:00   \n",
       "1  352398080550058  13014665572   107726  2022-10-16 14:38:00   \n",
       "2  352398080550058  13014716101   100671  2022-10-16 14:42:06   \n",
       "3  352398080550058  13014716101   104645  2022-10-16 14:42:06   \n",
       "4  352398080550058  13015069818   107708  2022-10-16 15:11:39   \n",
       "\n",
       "            local_date                                               name  \\\n",
       "0  2022-10-16 14:38:01                    Картофель /новый урожай/Россия/   \n",
       "1  2022-10-16 14:38:01  Молоко Станичное 3.2% 1.0л ультрапастеризованн...   \n",
       "2  2022-10-16 14:42:06               Вафли Коламбина /телевизор/Кузнецов/   \n",
       "3  2022-10-16 14:42:06  К-ты Хо-хо-чу глаз.солен.карамель /Невск.конди...   \n",
       "4  2022-10-16 15:11:39  Молоко Молочный гостинец 3.2% 930гр ультрапаст...   \n",
       "\n",
       "   price  quantity  my_ckecker  \n",
       "0   31.9     28.45         NaN  \n",
       "1   89.0      1.00         NaN  \n",
       "2  367.0      2.00         NaN  \n",
       "3  334.0      1.00         NaN  \n",
       "4   89.0      1.00         NaN  "
      ]
     },
     "metadata": {},
     "output_type": "display_data"
    },
    {
     "name": "stdout",
     "output_type": "stream",
     "text": [
      "<class 'pandas.core.frame.DataFrame'>\n",
      "RangeIndex: 696787 entries, 0 to 696786\n",
      "Data columns (total 9 columns):\n",
      " #   Column       Non-Null Count   Dtype  \n",
      "---  ------       --------------   -----  \n",
      " 0   device_id    696787 non-null  int64  \n",
      " 1   receipt_id   696787 non-null  int64  \n",
      " 2   item_id      696787 non-null  int64  \n",
      " 3   server_date  696787 non-null  object \n",
      " 4   local_date   696787 non-null  object \n",
      " 5   name         696787 non-null  object \n",
      " 6   price        696787 non-null  float64\n",
      " 7   quantity     696787 non-null  float64\n",
      " 8   my_ckecker   0 non-null       float64\n",
      "dtypes: float64(3), int64(3), object(3)\n",
      "memory usage: 47.8+ MB\n"
     ]
    },
    {
     "data": {
      "text/plain": [
       "None"
      ]
     },
     "metadata": {},
     "output_type": "display_data"
    },
    {
     "data": {
      "text/html": [
       "<div>\n",
       "<style scoped>\n",
       "    .dataframe tbody tr th:only-of-type {\n",
       "        vertical-align: middle;\n",
       "    }\n",
       "\n",
       "    .dataframe tbody tr th {\n",
       "        vertical-align: top;\n",
       "    }\n",
       "\n",
       "    .dataframe thead th {\n",
       "        text-align: right;\n",
       "    }\n",
       "</style>\n",
       "<table border=\"1\" class=\"dataframe\">\n",
       "  <thead>\n",
       "    <tr style=\"text-align: right;\">\n",
       "      <th></th>\n",
       "      <th>device_id</th>\n",
       "      <th>receipt_id</th>\n",
       "      <th>item_id</th>\n",
       "      <th>server_date</th>\n",
       "      <th>local_date</th>\n",
       "      <th>name</th>\n",
       "      <th>price</th>\n",
       "      <th>quantity</th>\n",
       "      <th>my_ckecker</th>\n",
       "    </tr>\n",
       "  </thead>\n",
       "  <tbody>\n",
       "    <tr>\n",
       "      <th>count</th>\n",
       "      <td>6.967870e+05</td>\n",
       "      <td>6.967870e+05</td>\n",
       "      <td>696787.000000</td>\n",
       "      <td>696787</td>\n",
       "      <td>696787</td>\n",
       "      <td>696787</td>\n",
       "      <td>696787.000000</td>\n",
       "      <td>696787.000000</td>\n",
       "      <td>0.0</td>\n",
       "    </tr>\n",
       "    <tr>\n",
       "      <th>unique</th>\n",
       "      <td>NaN</td>\n",
       "      <td>NaN</td>\n",
       "      <td>NaN</td>\n",
       "      <td>161969</td>\n",
       "      <td>162833</td>\n",
       "      <td>16226</td>\n",
       "      <td>NaN</td>\n",
       "      <td>NaN</td>\n",
       "      <td>NaN</td>\n",
       "    </tr>\n",
       "    <tr>\n",
       "      <th>top</th>\n",
       "      <td>NaN</td>\n",
       "      <td>NaN</td>\n",
       "      <td>NaN</td>\n",
       "      <td>2021-11-03 10:25:29</td>\n",
       "      <td>2022-04-22 18:48:31</td>\n",
       "      <td>Хлеб Дарницкий 600гр /Пореченский х/з/</td>\n",
       "      <td>NaN</td>\n",
       "      <td>NaN</td>\n",
       "      <td>NaN</td>\n",
       "    </tr>\n",
       "    <tr>\n",
       "      <th>freq</th>\n",
       "      <td>NaN</td>\n",
       "      <td>NaN</td>\n",
       "      <td>NaN</td>\n",
       "      <td>128</td>\n",
       "      <td>42</td>\n",
       "      <td>18780</td>\n",
       "      <td>NaN</td>\n",
       "      <td>NaN</td>\n",
       "      <td>NaN</td>\n",
       "    </tr>\n",
       "    <tr>\n",
       "      <th>mean</th>\n",
       "      <td>3.523981e+14</td>\n",
       "      <td>1.254556e+10</td>\n",
       "      <td>108852.321336</td>\n",
       "      <td>NaN</td>\n",
       "      <td>NaN</td>\n",
       "      <td>NaN</td>\n",
       "      <td>118.420738</td>\n",
       "      <td>1.272593</td>\n",
       "      <td>NaN</td>\n",
       "    </tr>\n",
       "    <tr>\n",
       "      <th>std</th>\n",
       "      <td>6.482178e+05</td>\n",
       "      <td>2.048410e+09</td>\n",
       "      <td>5127.736083</td>\n",
       "      <td>NaN</td>\n",
       "      <td>NaN</td>\n",
       "      <td>NaN</td>\n",
       "      <td>125.143762</td>\n",
       "      <td>2.040548</td>\n",
       "      <td>NaN</td>\n",
       "    </tr>\n",
       "    <tr>\n",
       "      <th>min</th>\n",
       "      <td>3.523981e+14</td>\n",
       "      <td>9.127015e+09</td>\n",
       "      <td>100000.000000</td>\n",
       "      <td>NaN</td>\n",
       "      <td>NaN</td>\n",
       "      <td>NaN</td>\n",
       "      <td>0.410000</td>\n",
       "      <td>0.001000</td>\n",
       "      <td>NaN</td>\n",
       "    </tr>\n",
       "    <tr>\n",
       "      <th>25%</th>\n",
       "      <td>3.523981e+14</td>\n",
       "      <td>1.079964e+10</td>\n",
       "      <td>104978.000000</td>\n",
       "      <td>NaN</td>\n",
       "      <td>NaN</td>\n",
       "      <td>NaN</td>\n",
       "      <td>39.500000</td>\n",
       "      <td>1.000000</td>\n",
       "      <td>NaN</td>\n",
       "    </tr>\n",
       "    <tr>\n",
       "      <th>50%</th>\n",
       "      <td>3.523981e+14</td>\n",
       "      <td>1.240296e+10</td>\n",
       "      <td>108918.000000</td>\n",
       "      <td>NaN</td>\n",
       "      <td>NaN</td>\n",
       "      <td>NaN</td>\n",
       "      <td>74.000000</td>\n",
       "      <td>1.000000</td>\n",
       "      <td>NaN</td>\n",
       "    </tr>\n",
       "    <tr>\n",
       "      <th>75%</th>\n",
       "      <td>3.523981e+14</td>\n",
       "      <td>1.434212e+10</td>\n",
       "      <td>113611.000000</td>\n",
       "      <td>NaN</td>\n",
       "      <td>NaN</td>\n",
       "      <td>NaN</td>\n",
       "      <td>150.000000</td>\n",
       "      <td>1.000000</td>\n",
       "      <td>NaN</td>\n",
       "    </tr>\n",
       "    <tr>\n",
       "      <th>max</th>\n",
       "      <td>3.523981e+14</td>\n",
       "      <td>1.621035e+10</td>\n",
       "      <td>117218.000000</td>\n",
       "      <td>NaN</td>\n",
       "      <td>NaN</td>\n",
       "      <td>NaN</td>\n",
       "      <td>16100.000000</td>\n",
       "      <td>580.000000</td>\n",
       "      <td>NaN</td>\n",
       "    </tr>\n",
       "  </tbody>\n",
       "</table>\n",
       "</div>"
      ],
      "text/plain": [
       "           device_id    receipt_id        item_id          server_date  \\\n",
       "count   6.967870e+05  6.967870e+05  696787.000000               696787   \n",
       "unique           NaN           NaN            NaN               161969   \n",
       "top              NaN           NaN            NaN  2021-11-03 10:25:29   \n",
       "freq             NaN           NaN            NaN                  128   \n",
       "mean    3.523981e+14  1.254556e+10  108852.321336                  NaN   \n",
       "std     6.482178e+05  2.048410e+09    5127.736083                  NaN   \n",
       "min     3.523981e+14  9.127015e+09  100000.000000                  NaN   \n",
       "25%     3.523981e+14  1.079964e+10  104978.000000                  NaN   \n",
       "50%     3.523981e+14  1.240296e+10  108918.000000                  NaN   \n",
       "75%     3.523981e+14  1.434212e+10  113611.000000                  NaN   \n",
       "max     3.523981e+14  1.621035e+10  117218.000000                  NaN   \n",
       "\n",
       "                 local_date                                    name  \\\n",
       "count                696787                                  696787   \n",
       "unique               162833                                   16226   \n",
       "top     2022-04-22 18:48:31  Хлеб Дарницкий 600гр /Пореченский х/з/   \n",
       "freq                     42                                   18780   \n",
       "mean                    NaN                                     NaN   \n",
       "std                     NaN                                     NaN   \n",
       "min                     NaN                                     NaN   \n",
       "25%                     NaN                                     NaN   \n",
       "50%                     NaN                                     NaN   \n",
       "75%                     NaN                                     NaN   \n",
       "max                     NaN                                     NaN   \n",
       "\n",
       "                price       quantity  my_ckecker  \n",
       "count   696787.000000  696787.000000         0.0  \n",
       "unique            NaN            NaN         NaN  \n",
       "top               NaN            NaN         NaN  \n",
       "freq              NaN            NaN         NaN  \n",
       "mean       118.420738       1.272593         NaN  \n",
       "std        125.143762       2.040548         NaN  \n",
       "min          0.410000       0.001000         NaN  \n",
       "25%         39.500000       1.000000         NaN  \n",
       "50%         74.000000       1.000000         NaN  \n",
       "75%        150.000000       1.000000         NaN  \n",
       "max      16100.000000     580.000000         NaN  "
      ]
     },
     "metadata": {},
     "output_type": "display_data"
    },
    {
     "data": {
      "text/plain": [
       "device_id          25\n",
       "receipt_id     163296\n",
       "item_id         16226\n",
       "server_date    161969\n",
       "local_date     162833\n",
       "name            16226\n",
       "price            6651\n",
       "quantity         3666\n",
       "my_ckecker          0\n",
       "dtype: int64"
      ]
     },
     "metadata": {},
     "output_type": "display_data"
    },
    {
     "data": {
      "text/plain": [
       "device_id           0\n",
       "receipt_id          0\n",
       "item_id             0\n",
       "server_date         0\n",
       "local_date          0\n",
       "name                0\n",
       "price               0\n",
       "quantity            0\n",
       "my_ckecker     696787\n",
       "dtype: int64"
      ]
     },
     "metadata": {},
     "output_type": "display_data"
    },
    {
     "name": "stdout",
     "output_type": "stream",
     "text": [
      "Количество дубликатов: 25682\n"
     ]
    }
   ],
   "source": [
    "supermarket_train = data_load(\"C:\\\\Users\\\\trosh\\\\Projects\\\\Python3\\\\vscode\\\\supermarket_train.tsv\")"
   ]
  },
  {
   "cell_type": "code",
   "execution_count": 40,
   "metadata": {},
   "outputs": [],
   "source": [
    "supermarket_train = supermarket_train.drop_duplicates()"
   ]
  },
  {
   "cell_type": "code",
   "execution_count": 41,
   "metadata": {},
   "outputs": [
    {
     "data": {
      "text/plain": [
       "Index(['device_id', 'receipt_id', 'item_id', 'server_date', 'local_date',\n",
       "       'name', 'price', 'quantity', 'my_ckecker'],\n",
       "      dtype='object')"
      ]
     },
     "execution_count": 41,
     "metadata": {},
     "output_type": "execute_result"
    }
   ],
   "source": [
    "supermarket_train.columns"
   ]
  },
  {
   "cell_type": "code",
   "execution_count": 42,
   "metadata": {},
   "outputs": [],
   "source": [
    "supermarket_train['local_date'] = pd.to_datetime(supermarket_train['local_date'], format='%Y-%m-%d %H:%M:%S')\n",
    "supermarket_train['server_date'] = pd.to_datetime(supermarket_train['server_date'], format='%Y-%m-%d %H:%M:%S')"
   ]
  },
  {
   "cell_type": "code",
   "execution_count": 43,
   "metadata": {},
   "outputs": [],
   "source": [
    "supermarket_train = supermarket_train.drop('my_ckecker', axis=1)"
   ]
  },
  {
   "cell_type": "code",
   "execution_count": 44,
   "metadata": {},
   "outputs": [
    {
     "name": "stdout",
     "output_type": "stream",
     "text": [
      "<class 'pandas.core.frame.DataFrame'>\n",
      "Int64Index: 671105 entries, 0 to 696786\n",
      "Data columns (total 8 columns):\n",
      " #   Column       Non-Null Count   Dtype         \n",
      "---  ------       --------------   -----         \n",
      " 0   device_id    671105 non-null  int64         \n",
      " 1   receipt_id   671105 non-null  int64         \n",
      " 2   item_id      671105 non-null  int64         \n",
      " 3   server_date  671105 non-null  datetime64[ns]\n",
      " 4   local_date   671105 non-null  datetime64[ns]\n",
      " 5   name         671105 non-null  object        \n",
      " 6   price        671105 non-null  float64       \n",
      " 7   quantity     671105 non-null  float64       \n",
      "dtypes: datetime64[ns](2), float64(2), int64(3), object(1)\n",
      "memory usage: 46.1+ MB\n"
     ]
    }
   ],
   "source": [
    "supermarket_train.info()"
   ]
  },
  {
   "cell_type": "code",
   "execution_count": 45,
   "metadata": {},
   "outputs": [],
   "source": [
    "def charts(df, col=None):\n",
    "    if col is None:\n",
    "        col = df.columns\n",
    "    for i in col:\n",
    "        f, axes = plt.subplots(1, 2, figsize=(17,5))\n",
    "        axes[0].set_title(f'Гистограмма по {i}', fontsize=15)\n",
    "        axes[0].set(xlabel=i, ylabel='Количество')\n",
    "        axes[1].set_title(f'Диаграмма размаха по {i}', fontsize=15)\n",
    "        sns.histplot(df[i], kde=True, bins=50, ax=axes[0])\n",
    "        axes[0].grid() \n",
    "        sns.boxplot(x=df[i], ax=axes[1])\n",
    "        plt.grid()\n",
    "        plt.show()"
   ]
  },
  {
   "cell_type": "code",
   "execution_count": 46,
   "metadata": {},
   "outputs": [
    {
     "data": {
      "image/png": "[encoded data removed]",
      "text/plain": [
       "<Figure size 1224x360 with 2 Axes>"
      ]
     },
     "metadata": {
      "needs_background": "light"
     },
     "output_type": "display_data"
    },
    {
     "data": {
      "image/png": "[encoded data removed]",
      "text/plain": [
       "<Figure size 1224x360 with 2 Axes>"
      ]
     },
     "metadata": {
      "needs_background": "light"
     },
     "output_type": "display_data"
    }
   ],
   "source": [
    "charts(cosmetic_train, ['quantity', 'price'])"
   ]
  },
  {
   "cell_type": "code",
   "execution_count": 47,
   "metadata": {},
   "outputs": [
    {
     "data": {
      "image/png": "[encoded data removed]",
      "text/plain": [
       "<Figure size 1224x360 with 2 Axes>"
      ]
     },
     "metadata": {
      "needs_background": "light"
     },
     "output_type": "display_data"
    },
    {
     "data": {
      "image/png": "[encoded data removed]",
      "text/plain": [
       "<Figure size 1224x360 with 2 Axes>"
      ]
     },
     "metadata": {
      "needs_background": "light"
     },
     "output_type": "display_data"
    }
   ],
   "source": [
    "charts(supermarket_train, ['quantity', 'price'])"
   ]
  }
 ],
 "metadata": {
  "kernelspec": {
   "display_name": "Python 3",
   "language": "python",
   "name": "python3"
  },
  "language_info": {
   "codemirror_mode": {
    "name": "ipython",
    "version": 3
   },
   "file_extension": ".py",
   "mimetype": "text/x-python",
   "name": "python",
   "nbconvert_exporter": "python",
   "pygments_lexer": "ipython3",
   "version": "3.10.4"
  },
  "orig_nbformat": 4
 },
 "nbformat": 4,
 "nbformat_minor": 2
}
